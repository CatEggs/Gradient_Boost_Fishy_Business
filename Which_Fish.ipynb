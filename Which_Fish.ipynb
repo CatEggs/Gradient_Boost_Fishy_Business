{
 "cells": [
  {
   "cell_type": "code",
   "execution_count": 1,
   "metadata": {},
   "outputs": [],
   "source": [
    "import pandas as pd\n",
    "from sklearn.ensemble import GradientBoostingRegressor\n",
    "import numpy as np\n",
    "import pandas as pd\n",
    "from sklearn.model_selection import train_test_split\n",
    "from sklearn.metrics import mean_squared_error\n",
    "from sklearn.metrics import mean_absolute_error"
   ]
  },
  {
   "cell_type": "code",
   "execution_count": 2,
   "metadata": {},
   "outputs": [],
   "source": [
    "# load data and split into training and test sets\n",
    "train_df= pd.read_csv(\"fish_participant.csv\").set_index(\"Species\")\n",
    "test_df = pd.read_csv(\"fish_holdout_demo.csv\").set_index(\"Species\")"
   ]
  },
  {
   "cell_type": "code",
   "execution_count": 3,
   "metadata": {},
   "outputs": [
    {
     "data": {
      "text/html": [
       "<div>\n",
       "<style scoped>\n",
       "    .dataframe tbody tr th:only-of-type {\n",
       "        vertical-align: middle;\n",
       "    }\n",
       "\n",
       "    .dataframe tbody tr th {\n",
       "        vertical-align: top;\n",
       "    }\n",
       "\n",
       "    .dataframe thead th {\n",
       "        text-align: right;\n",
       "    }\n",
       "</style>\n",
       "<table border=\"1\" class=\"dataframe\">\n",
       "  <thead>\n",
       "    <tr style=\"text-align: right;\">\n",
       "      <th></th>\n",
       "      <th>Weight</th>\n",
       "      <th>Length1</th>\n",
       "      <th>Length2</th>\n",
       "      <th>Length3</th>\n",
       "      <th>Height</th>\n",
       "      <th>Width</th>\n",
       "    </tr>\n",
       "    <tr>\n",
       "      <th>Species</th>\n",
       "      <th></th>\n",
       "      <th></th>\n",
       "      <th></th>\n",
       "      <th></th>\n",
       "      <th></th>\n",
       "      <th></th>\n",
       "    </tr>\n",
       "  </thead>\n",
       "  <tbody>\n",
       "    <tr>\n",
       "      <th>Bream</th>\n",
       "      <td>430.0</td>\n",
       "      <td>26.5</td>\n",
       "      <td>29.0</td>\n",
       "      <td>34.0</td>\n",
       "      <td>12.4440</td>\n",
       "      <td>5.1340</td>\n",
       "    </tr>\n",
       "    <tr>\n",
       "      <th>Perch</th>\n",
       "      <td>110.0</td>\n",
       "      <td>20.0</td>\n",
       "      <td>22.0</td>\n",
       "      <td>23.5</td>\n",
       "      <td>5.5225</td>\n",
       "      <td>3.9950</td>\n",
       "    </tr>\n",
       "    <tr>\n",
       "      <th>Roach</th>\n",
       "      <td>160.0</td>\n",
       "      <td>20.5</td>\n",
       "      <td>22.5</td>\n",
       "      <td>25.3</td>\n",
       "      <td>7.0334</td>\n",
       "      <td>3.8203</td>\n",
       "    </tr>\n",
       "    <tr>\n",
       "      <th>Parkki</th>\n",
       "      <td>60.0</td>\n",
       "      <td>14.3</td>\n",
       "      <td>15.5</td>\n",
       "      <td>17.4</td>\n",
       "      <td>6.5772</td>\n",
       "      <td>2.3142</td>\n",
       "    </tr>\n",
       "    <tr>\n",
       "      <th>Bream</th>\n",
       "      <td>700.0</td>\n",
       "      <td>30.4</td>\n",
       "      <td>33.0</td>\n",
       "      <td>38.3</td>\n",
       "      <td>14.8604</td>\n",
       "      <td>5.2854</td>\n",
       "    </tr>\n",
       "  </tbody>\n",
       "</table>\n",
       "</div>"
      ],
      "text/plain": [
       "         Weight  Length1  Length2  Length3   Height   Width\n",
       "Species                                                    \n",
       "Bream     430.0     26.5     29.0     34.0  12.4440  5.1340\n",
       "Perch     110.0     20.0     22.0     23.5   5.5225  3.9950\n",
       "Roach     160.0     20.5     22.5     25.3   7.0334  3.8203\n",
       "Parkki     60.0     14.3     15.5     17.4   6.5772  2.3142\n",
       "Bream     700.0     30.4     33.0     38.3  14.8604  5.2854"
      ]
     },
     "execution_count": 3,
     "metadata": {},
     "output_type": "execute_result"
    }
   ],
   "source": [
    "train_df.head()"
   ]
  },
  {
   "cell_type": "code",
   "execution_count": 4,
   "metadata": {},
   "outputs": [],
   "source": [
    "# identify target for train and test dataset\n",
    "y_train = train_df[\"Weight\"].values\n",
    "y_test = test_df[\"Weight\"].values"
   ]
  },
  {
   "cell_type": "code",
   "execution_count": 5,
   "metadata": {},
   "outputs": [
    {
     "data": {
      "text/plain": [
       "array([ 140. ,  150. ,    9.8,  430. ,  456. ,  169. ,  567. ,    8.7,\n",
       "        340. ,  320. ,  500. ,  188. ,  260. ,   70. ,  363. ,  500. ,\n",
       "          5.9,  700. ,  125. ,   87. ,  272. , 1000. ,  170. , 1000. ,\n",
       "        720. , 1100. ,  100. ,  160. ])"
      ]
     },
     "execution_count": 5,
     "metadata": {},
     "output_type": "execute_result"
    }
   ],
   "source": [
    "y_test"
   ]
  },
  {
   "cell_type": "code",
   "execution_count": 6,
   "metadata": {},
   "outputs": [],
   "source": [
    "X_train = train_df[[column for column in train_df.columns if column != \"Weight\"]].values\n",
    "X_test = test_df[[column for column in train_df.columns if column != \"Weight\"]].values"
   ]
  },
  {
   "cell_type": "code",
   "execution_count": 7,
   "metadata": {},
   "outputs": [
    {
     "data": {
      "text/plain": [
       "array([[19.    , 20.7   , 23.2   ,  8.5376,  3.2944],\n",
       "       [18.4   , 20.    , 22.4   ,  8.8928,  3.2928],\n",
       "       [11.4   , 12.    , 13.2   ,  2.2044,  1.1484],\n",
       "       [35.5   , 38.    , 40.5   ,  7.29  ,  4.5765],\n",
       "       [40.    , 42.5   , 45.5   ,  7.28  ,  4.3225],\n",
       "       [22.    , 24.    , 27.2   ,  7.5344,  3.8352],\n",
       "       [43.2   , 46.    , 48.7   ,  7.792 ,  4.87  ],\n",
       "       [10.8   , 11.3   , 12.6   ,  1.9782,  1.2852],\n",
       "       [29.5   , 32.    , 37.3   , 13.9129,  5.0728],\n",
       "       [27.8   , 30.    , 31.6   ,  7.6156,  4.7716],\n",
       "       [29.1   , 31.5   , 36.4   , 13.7592,  4.368 ],\n",
       "       [22.6   , 24.6   , 26.2   ,  6.7334,  4.1658],\n",
       "       [25.4   , 27.5   , 28.9   ,  7.1672,  4.335 ],\n",
       "       [15.7   , 17.4   , 18.5   ,  4.588 ,  2.9415],\n",
       "       [26.3   , 29.    , 33.5   , 12.73  ,  4.4555],\n",
       "       [28.5   , 30.7   , 36.2   , 14.2266,  4.9594],\n",
       "       [ 7.5   ,  8.4   ,  8.8   ,  2.112 ,  1.408 ],\n",
       "       [30.4   , 33.    , 38.5   , 14.938 ,  5.1975],\n",
       "       [19.    , 21.    , 22.5   ,  5.6925,  3.6675],\n",
       "       [18.2   , 19.8   , 22.2   ,  5.6166,  3.1746],\n",
       "       [25.    , 27.    , 30.6   ,  8.568 ,  4.7736],\n",
       "       [37.3   , 40.    , 43.5   , 12.354 ,  6.525 ],\n",
       "       [21.5   , 23.5   , 25.    ,  6.275 ,  3.725 ],\n",
       "       [39.8   , 43.    , 45.2   , 11.9328,  7.2772],\n",
       "       [32.    , 35.    , 40.6   , 16.3618,  6.09  ],\n",
       "       [39.    , 42.    , 44.6   , 12.8002,  6.8684],\n",
       "       [16.2   , 18.    , 19.2   ,  5.2224,  3.3216],\n",
       "       [21.1   , 22.5   , 25.    ,  6.4   ,  3.8   ]])"
      ]
     },
     "execution_count": 7,
     "metadata": {},
     "output_type": "execute_result"
    }
   ],
   "source": [
    "X_test"
   ]
  },
  {
   "cell_type": "code",
   "execution_count": 8,
   "metadata": {},
   "outputs": [
    {
     "data": {
      "text/plain": [
       "GradientBoostingRegressor(alpha=0.9, ccp_alpha=0.0, criterion='friedman_mse',\n",
       "                          init=None, learning_rate=0.5, loss='ls', max_depth=5,\n",
       "                          max_features=None, max_leaf_nodes=None,\n",
       "                          min_impurity_decrease=0.0, min_impurity_split=None,\n",
       "                          min_samples_leaf=1, min_samples_split=2,\n",
       "                          min_weight_fraction_leaf=0.0, n_estimators=32,\n",
       "                          n_iter_no_change=None, presort='deprecated',\n",
       "                          random_state=None, subsample=1.0, tol=0.0001,\n",
       "                          validation_fraction=0.1, verbose=0, warm_start=False)"
      ]
     },
     "execution_count": 8,
     "metadata": {},
     "output_type": "execute_result"
    }
   ],
   "source": [
    "# now we will construct and fit our model using gradient boost regression\n",
    "\n",
    "regressor = GradientBoostingRegressor(\n",
    "    max_depth=5,\n",
    "    n_estimators=32,\n",
    "    learning_rate=0.5)\n",
    "\n",
    "regressor.fit(X_train, y_train)"
   ]
  },
  {
   "cell_type": "code",
   "execution_count": 9,
   "metadata": {},
   "outputs": [],
   "source": [
    "# get the optimal number of trees using the staged_predict()\n",
    "errors = [mean_squared_error(y_test, y_pred) for y_pred in regressor.staged_predict(X_test)]\n",
    "best_n_estimators = np.argmin(errors)"
   ]
  },
  {
   "cell_type": "code",
   "execution_count": 10,
   "metadata": {},
   "outputs": [
    {
     "data": {
      "text/plain": [
       "GradientBoostingRegressor(alpha=0.9, ccp_alpha=0.0, criterion='friedman_mse',\n",
       "                          init=None, learning_rate=1.0, loss='ls', max_depth=2,\n",
       "                          max_features=None, max_leaf_nodes=None,\n",
       "                          min_impurity_decrease=0.0, min_impurity_split=None,\n",
       "                          min_samples_leaf=1, min_samples_split=2,\n",
       "                          min_weight_fraction_leaf=0.0, n_estimators=31,\n",
       "                          n_iter_no_change=None, presort='deprecated',\n",
       "                          random_state=None, subsample=1.0, tol=0.0001,\n",
       "                          validation_fraction=0.1, verbose=0, warm_start=False)"
      ]
     },
     "execution_count": 10,
     "metadata": {},
     "output_type": "execute_result"
    }
   ],
   "source": [
    "best_regressor = GradientBoostingRegressor(\n",
    "    max_depth=2,\n",
    "    n_estimators=best_n_estimators,\n",
    "    learning_rate=1.0\n",
    ")\n",
    "best_regressor.fit(X_train, y_train)"
   ]
  },
  {
   "cell_type": "code",
   "execution_count": 11,
   "metadata": {},
   "outputs": [
    {
     "data": {
      "text/plain": [
       "7.147184014873161"
      ]
     },
     "execution_count": 11,
     "metadata": {},
     "output_type": "execute_result"
    }
   ],
   "source": [
    "y_pred = best_regressor.predict(X_test)\n",
    "mean_absolute_error(y_test, y_pred)"
   ]
  },
  {
   "cell_type": "code",
   "execution_count": null,
   "metadata": {},
   "outputs": [],
   "source": []
  }
 ],
 "metadata": {
  "kernelspec": {
   "display_name": "Python 3",
   "language": "python",
   "name": "python3"
  },
  "language_info": {
   "codemirror_mode": {
    "name": "ipython",
    "version": 3
   },
   "file_extension": ".py",
   "mimetype": "text/x-python",
   "name": "python",
   "nbconvert_exporter": "python",
   "pygments_lexer": "ipython3",
   "version": "3.6.3"
  }
 },
 "nbformat": 4,
 "nbformat_minor": 4
}
