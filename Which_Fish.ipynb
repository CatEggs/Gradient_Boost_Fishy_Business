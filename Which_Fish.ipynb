{
 "cells": [
  {
   "cell_type": "code",
   "execution_count": 7,
   "metadata": {},
   "outputs": [],
   "source": [
    "import pandas as pd\n",
    "from sklearn.ensemble import GradientBoostingRegressor\n",
    "import numpy as np\n",
    "import pandas as pd\n",
    "from sklearn.model_selection import train_test_split\n",
    "from sklearn.metrics import mean_squared_error\n",
    "from sklearn.datasets import load_boston\n",
    "from sklearn.metrics import mean_absolute_error"
   ]
  },
  {
   "cell_type": "code",
   "execution_count": 8,
   "metadata": {},
   "outputs": [],
   "source": [
    "# load data and split into training and test sets\n",
    "train_df= pd.read_csv(\"fish_participant.csv\").set_index(\"Species\")\n",
    "test_df = pd.read_csv(\"fish_holdout_demo.csv\").set_index(\"Species\")"
   ]
  },
  {
   "cell_type": "code",
   "execution_count": 9,
   "metadata": {},
   "outputs": [
    {
     "data": {
      "text/html": [
       "<div>\n",
       "<style scoped>\n",
       "    .dataframe tbody tr th:only-of-type {\n",
       "        vertical-align: middle;\n",
       "    }\n",
       "\n",
       "    .dataframe tbody tr th {\n",
       "        vertical-align: top;\n",
       "    }\n",
       "\n",
       "    .dataframe thead th {\n",
       "        text-align: right;\n",
       "    }\n",
       "</style>\n",
       "<table border=\"1\" class=\"dataframe\">\n",
       "  <thead>\n",
       "    <tr style=\"text-align: right;\">\n",
       "      <th></th>\n",
       "      <th>Weight</th>\n",
       "      <th>Length1</th>\n",
       "      <th>Length2</th>\n",
       "      <th>Length3</th>\n",
       "      <th>Height</th>\n",
       "      <th>Width</th>\n",
       "    </tr>\n",
       "    <tr>\n",
       "      <th>Species</th>\n",
       "      <th></th>\n",
       "      <th></th>\n",
       "      <th></th>\n",
       "      <th></th>\n",
       "      <th></th>\n",
       "      <th></th>\n",
       "    </tr>\n",
       "  </thead>\n",
       "  <tbody>\n",
       "    <tr>\n",
       "      <th>Bream</th>\n",
       "      <td>430.0</td>\n",
       "      <td>26.5</td>\n",
       "      <td>29.0</td>\n",
       "      <td>34.0</td>\n",
       "      <td>12.4440</td>\n",
       "      <td>5.1340</td>\n",
       "    </tr>\n",
       "    <tr>\n",
       "      <th>Perch</th>\n",
       "      <td>110.0</td>\n",
       "      <td>20.0</td>\n",
       "      <td>22.0</td>\n",
       "      <td>23.5</td>\n",
       "      <td>5.5225</td>\n",
       "      <td>3.9950</td>\n",
       "    </tr>\n",
       "    <tr>\n",
       "      <th>Roach</th>\n",
       "      <td>160.0</td>\n",
       "      <td>20.5</td>\n",
       "      <td>22.5</td>\n",
       "      <td>25.3</td>\n",
       "      <td>7.0334</td>\n",
       "      <td>3.8203</td>\n",
       "    </tr>\n",
       "    <tr>\n",
       "      <th>Parkki</th>\n",
       "      <td>60.0</td>\n",
       "      <td>14.3</td>\n",
       "      <td>15.5</td>\n",
       "      <td>17.4</td>\n",
       "      <td>6.5772</td>\n",
       "      <td>2.3142</td>\n",
       "    </tr>\n",
       "    <tr>\n",
       "      <th>Bream</th>\n",
       "      <td>700.0</td>\n",
       "      <td>30.4</td>\n",
       "      <td>33.0</td>\n",
       "      <td>38.3</td>\n",
       "      <td>14.8604</td>\n",
       "      <td>5.2854</td>\n",
       "    </tr>\n",
       "  </tbody>\n",
       "</table>\n",
       "</div>"
      ],
      "text/plain": [
       "         Weight  Length1  Length2  Length3   Height   Width\n",
       "Species                                                    \n",
       "Bream     430.0     26.5     29.0     34.0  12.4440  5.1340\n",
       "Perch     110.0     20.0     22.0     23.5   5.5225  3.9950\n",
       "Roach     160.0     20.5     22.5     25.3   7.0334  3.8203\n",
       "Parkki     60.0     14.3     15.5     17.4   6.5772  2.3142\n",
       "Bream     700.0     30.4     33.0     38.3  14.8604  5.2854"
      ]
     },
     "execution_count": 9,
     "metadata": {},
     "output_type": "execute_result"
    }
   ],
   "source": [
    "train_df.head()"
   ]
  },
  {
   "cell_type": "code",
   "execution_count": 10,
   "metadata": {},
   "outputs": [],
   "source": [
    "# identify target\n",
    "y = train_df[\"Weight\"].values"
   ]
  },
  {
   "cell_type": "code",
   "execution_count": 11,
   "metadata": {},
   "outputs": [
    {
     "data": {
      "text/plain": [
       "array([ 430. ,  110. ,  160. ,   60. ,  700. ,   40. ,  700. ,  250. ,\n",
       "          6.7,  242. ,  925. ,  540. ,  270. , 1550. ,  500. ,  188. ,\n",
       "        690. ,  500. ,    9.9,  650. ,   85. ,  650. ,   55. ,  700. ,\n",
       "       1100. ,   87. ,  514. ,   70. ,    7.5,  115. ,  340. ,  100. ,\n",
       "        150. ,    9.7,  110. ,  567. ,  770. ,  714. ,  145. ,  363. ,\n",
       "        265. , 1000. ,  600. ,  950. ,  840. ,  450. ,  500. ,  685. ,\n",
       "        456. ,   19.7,   10. ,  273. ,  300. ,  150. ,  850. ,  290. ,\n",
       "        180. ,  218. ,  540. ,  500. ,  920. ,  170. ,    8.7, 1100. ,\n",
       "        820. ,  150. ,  700. ,  390. ,  340. ,  150. ,  975. ,   40. ,\n",
       "        120. ,  430. ,  260. ,  145. ,  270. ,  680. ,    9.8,  125. ,\n",
       "        900. ,  272. ,  450. ,  145. , 1250. , 1000. ,  700. ,  300. ,\n",
       "        160. ,  200. ,  720. ,  290. ,   69. ,  169. ,  345. ,    9.8,\n",
       "        300. ,  161. ,  300. ,   13.4, 1000. , 1000. ,  120. ,  320. ,\n",
       "        900. ,    5.9,  197. ,  140. ,  110. ,  685. ,  300. ])"
      ]
     },
     "execution_count": 11,
     "metadata": {},
     "output_type": "execute_result"
    }
   ],
   "source": [
    "y"
   ]
  },
  {
   "cell_type": "code",
   "execution_count": 19,
   "metadata": {},
   "outputs": [],
   "source": [
    "X = train_df[[column for column in train_df.columns if column != \"Weight\"]].values"
   ]
  },
  {
   "cell_type": "code",
   "execution_count": 20,
   "metadata": {},
   "outputs": [
    {
     "data": {
      "text/plain": [
       "array([[26.5   , 29.    , 34.    , 12.444 ,  5.134 ],\n",
       "       [20.    , 22.    , 23.5   ,  5.5225,  3.995 ],\n",
       "       [20.5   , 22.5   , 25.3   ,  7.0334,  3.8203],\n",
       "       [14.3   , 15.5   , 17.4   ,  6.5772,  2.3142],\n",
       "       [30.4   , 33.    , 38.3   , 14.8604,  5.2854],\n",
       "       [13.8   , 15.    , 16.    ,  3.824 ,  2.432 ],\n",
       "       [30.4   , 33.    , 38.5   , 14.938 ,  5.1975],\n",
       "       [25.4   , 27.5   , 28.9   ,  7.2828,  4.5662],\n",
       "       [ 9.3   ,  9.8   , 10.8   ,  1.7388,  1.0476],\n",
       "       [23.2   , 25.4   , 30.    , 11.52  ,  4.02  ],\n",
       "       [36.2   , 39.5   , 45.3   , 18.7542,  6.7497],\n",
       "       [28.5   , 31.    , 34.    , 10.744 ,  6.562 ],\n",
       "       [24.1   , 26.5   , 29.3   ,  8.1454,  4.2485],\n",
       "       [56.    , 60.    , 64.    ,  9.6   ,  6.144 ],\n",
       "       [28.7   , 31.    , 36.2   , 14.3714,  4.8146],\n",
       "       [22.6   , 24.6   , 26.2   ,  6.7334,  4.1658],\n",
       "       [34.6   , 37.    , 39.3   , 10.5717,  6.3666],\n",
       "       [29.1   , 31.5   , 36.4   , 13.7592,  4.368 ],\n",
       "       [11.3   , 11.8   , 13.1   ,  2.2139,  1.1659],\n",
       "       [36.5   , 39.    , 41.4   , 11.1366,  6.003 ],\n",
       "       [18.2   , 20.    , 21.    ,  5.082 ,  2.772 ],\n",
       "       [31.    , 33.5   , 38.7   , 14.4738,  5.7276],\n",
       "       [13.5   , 14.7   , 16.5   ,  6.8475,  2.3265],\n",
       "       [34.    , 36.    , 38.3   , 10.6091,  6.7408],\n",
       "       [39.    , 42.    , 44.6   , 12.8002,  6.8684],\n",
       "       [18.2   , 19.8   , 22.2   ,  5.6166,  3.1746],\n",
       "       [30.5   , 32.8   , 34.    , 10.03  ,  6.018 ],\n",
       "       [15.7   , 17.4   , 18.5   ,  4.588 ,  2.9415],\n",
       "       [10.    , 10.5   , 11.6   ,  1.972 ,  1.16  ],\n",
       "       [19.    , 21.    , 22.5   ,  5.9175,  3.3075],\n",
       "       [23.9   , 26.5   , 31.1   , 12.3778,  4.6961],\n",
       "       [16.2   , 18.    , 19.2   ,  5.2224,  3.3216],\n",
       "       [18.4   , 20.    , 22.4   ,  8.8928,  3.2928],\n",
       "       [10.4   , 11.    , 12.    ,  2.196 ,  1.38  ],\n",
       "       [19.    , 21.    , 22.5   ,  5.6925,  3.555 ],\n",
       "       [43.2   , 46.    , 48.7   ,  7.792 ,  4.87  ],\n",
       "       [44.8   , 48.    , 51.2   ,  7.68  ,  5.376 ],\n",
       "       [32.7   , 36.    , 41.5   , 16.517 ,  5.8515],\n",
       "       [20.7   , 22.7   , 24.2   ,  5.9532,  3.63  ],\n",
       "       [26.3   , 29.    , 33.5   , 12.73  ,  4.4555],\n",
       "       [25.4   , 27.5   , 28.9   ,  7.0516,  4.335 ],\n",
       "       [40.2   , 43.5   , 46.    , 12.604 ,  8.142 ],\n",
       "       [29.4   , 32.    , 37.2   , 15.438 ,  5.58  ],\n",
       "       [48.3   , 51.7   , 55.1   ,  8.9262,  6.1712],\n",
       "       [32.5   , 35.    , 37.3   , 11.4884,  7.7957],\n",
       "       [26.8   , 29.7   , 34.7   , 13.6024,  4.9274],\n",
       "       [28.5   , 30.7   , 36.2   , 14.2266,  4.9594],\n",
       "       [31.4   , 34.    , 39.2   , 15.9936,  5.3704],\n",
       "       [40.    , 42.5   , 45.5   ,  7.28  ,  4.3225],\n",
       "       [13.2   , 14.3   , 15.2   ,  2.8728,  2.0672],\n",
       "       [11.3   , 11.8   , 13.1   ,  2.2139,  1.2838],\n",
       "       [23.    , 25.    , 28.    , 11.088 ,  4.144 ],\n",
       "       [31.7   , 34.    , 37.8   ,  5.7078,  4.158 ],\n",
       "       [20.5   , 22.5   , 24.    ,  6.792 ,  3.624 ],\n",
       "       [36.9   , 40.    , 42.3   , 11.9286,  7.1064],\n",
       "       [24.    , 26.3   , 31.2   , 12.48  ,  4.3056],\n",
       "       [23.6   , 25.2   , 27.9   ,  7.0866,  3.906 ],\n",
       "       [25.    , 26.5   , 28.    ,  7.168 ,  4.144 ],\n",
       "       [40.1   , 43.    , 45.8   ,  7.786 ,  5.1296],\n",
       "       [42.    , 45.    , 48.    ,  6.96  ,  4.896 ],\n",
       "       [35.    , 38.5   , 44.1   , 18.0369,  6.3063],\n",
       "       [21.5   , 23.5   , 25.    ,  6.275 ,  3.725 ],\n",
       "       [10.8   , 11.3   , 12.6   ,  1.9782,  1.2852],\n",
       "       [40.1   , 43.    , 45.5   , 12.5125,  7.4165],\n",
       "       [36.6   , 39.    , 41.3   , 12.4313,  7.3514],\n",
       "       [20.4   , 22.    , 24.7   ,  5.8045,  3.7544],\n",
       "       [34.5   , 37.    , 39.4   , 10.835 ,  6.2646],\n",
       "       [29.5   , 31.7   , 35.    ,  9.485 ,  5.355 ],\n",
       "       [29.5   , 32.    , 37.3   , 13.9129,  5.0728],\n",
       "       [21.    , 23.    , 24.5   ,  5.2185,  3.626 ],\n",
       "       [37.4   , 41.    , 45.9   , 18.6354,  6.7473],\n",
       "       [12.9   , 14.1   , 16.2   ,  4.1472,  2.268 ],\n",
       "       [20.    , 22.    , 23.5   ,  5.64  ,  3.525 ],\n",
       "       [35.5   , 38.    , 40.5   ,  7.29  ,  4.5765],\n",
       "       [25.4   , 27.5   , 28.9   ,  7.1672,  4.335 ],\n",
       "       [19.8   , 21.5   , 24.1   ,  9.7364,  3.1571],\n",
       "       [23.6   , 26.    , 28.7   ,  8.3804,  4.2476],\n",
       "       [31.8   , 35.    , 40.6   , 15.4686,  6.1306],\n",
       "       [11.4   , 12.    , 13.2   ,  2.2044,  1.1484],\n",
       "       [19.    , 21.    , 22.5   ,  5.6925,  3.6675],\n",
       "       [36.5   , 39.    , 41.4   , 11.1366,  7.4934],\n",
       "       [25.    , 27.    , 30.6   ,  8.568 ,  4.7736],\n",
       "       [27.6   , 30.    , 35.1   , 14.0049,  4.8438],\n",
       "       [20.5   , 22.    , 24.3   ,  6.6339,  3.5478],\n",
       "       [52.    , 56.    , 59.7   , 10.6863,  6.9849],\n",
       "       [39.8   , 43.    , 45.2   , 11.9328,  7.2772],\n",
       "       [31.9   , 35.    , 40.5   , 16.2405,  5.589 ],\n",
       "       [34.8   , 37.3   , 39.8   ,  6.2884,  4.0198],\n",
       "       [21.1   , 22.5   , 25.    ,  6.4   ,  3.8   ],\n",
       "       [21.2   , 23.    , 25.8   , 10.3458,  3.6636],\n",
       "       [32.    , 35.    , 40.6   , 16.3618,  6.09  ],\n",
       "       [24.    , 26.    , 29.2   ,  8.8768,  4.4968],\n",
       "       [16.5   , 18.2   , 20.3   ,  5.2983,  2.8217],\n",
       "       [22.    , 24.    , 27.2   ,  7.5344,  3.8352],\n",
       "       [36.    , 38.5   , 41.    ,  6.396 ,  3.977 ],\n",
       "       [10.7   , 11.2   , 12.4   ,  2.0832,  1.2772],\n",
       "       [24.    , 26.    , 29.    , 11.368 ,  4.234 ],\n",
       "       [22.    , 23.4   , 26.7   ,  6.9153,  3.6312],\n",
       "       [25.2   , 27.3   , 28.7   ,  8.323 ,  5.1373],\n",
       "       [11.7   , 12.4   , 13.5   ,  2.43  ,  1.269 ],\n",
       "       [37.3   , 40.    , 43.5   , 12.354 ,  6.525 ],\n",
       "       [33.5   , 37.    , 42.6   , 18.957 ,  6.603 ],\n",
       "       [20.    , 22.    , 23.5   ,  6.11  ,  3.4075],\n",
       "       [27.8   , 30.    , 31.6   ,  7.6156,  4.7716],\n",
       "       [37.    , 40.    , 42.5   , 11.73  ,  7.225 ],\n",
       "       [ 7.5   ,  8.4   ,  8.8   ,  2.112 ,  1.408 ],\n",
       "       [23.5   , 25.6   , 27.    ,  6.561 ,  4.239 ],\n",
       "       [19.    , 20.7   , 23.2   ,  8.5376,  3.2944],\n",
       "       [19.1   , 20.8   , 23.1   ,  6.1677,  3.3957],\n",
       "       [34.    , 36.5   , 39.    , 10.881 ,  6.864 ],\n",
       "       [26.9   , 28.7   , 30.1   ,  7.5852,  4.6354]])"
      ]
     },
     "execution_count": 20,
     "metadata": {},
     "output_type": "execute_result"
    }
   ],
   "source": [
    "X"
   ]
  },
  {
   "cell_type": "code",
   "execution_count": 21,
   "metadata": {},
   "outputs": [
    {
     "data": {
      "text/plain": [
       "GradientBoostingRegressor(alpha=0.9, ccp_alpha=0.0, criterion='friedman_mse',\n",
       "                          init=None, learning_rate=0.1, loss='ls', max_depth=5,\n",
       "                          max_features=None, max_leaf_nodes=None,\n",
       "                          min_impurity_decrease=0.0, min_impurity_split=None,\n",
       "                          min_samples_leaf=1, min_samples_split=2,\n",
       "                          min_weight_fraction_leaf=0.0, n_estimators=8,\n",
       "                          n_iter_no_change=None, presort='deprecated',\n",
       "                          random_state=None, subsample=1.0, tol=0.0001,\n",
       "                          validation_fraction=0.1, verbose=0, warm_start=False)"
      ]
     },
     "execution_count": 21,
     "metadata": {},
     "output_type": "execute_result"
    }
   ],
   "source": [
    "# now we will construct and fit our model using gradient boost regression\n",
    "\n",
    "regressor = GradientBoostingRegressor(\n",
    "    max_depth=5,\n",
    "    n_estimators=8,\n",
    "    learning_rate=0.1)\n",
    "\n",
    "regressor.fit(X, y)"
   ]
  },
  {
   "cell_type": "code",
   "execution_count": 22,
   "metadata": {},
   "outputs": [
    {
     "ename": "NameError",
     "evalue": "name 'x_test' is not defined",
     "output_type": "error",
     "traceback": [
      "\u001b[0;31m---------------------------------------------------------------------------\u001b[0m",
      "\u001b[0;31mNameError\u001b[0m                                 Traceback (most recent call last)",
      "\u001b[0;32m<ipython-input-22-685ed6f005ca>\u001b[0m in \u001b[0;36m<module>\u001b[0;34m\u001b[0m\n\u001b[1;32m      1\u001b[0m \u001b[0;31m# get the optimal number of trees using the staged_predict()\u001b[0m\u001b[0;34m\u001b[0m\u001b[0;34m\u001b[0m\u001b[0m\n\u001b[0;32m----> 2\u001b[0;31m \u001b[0merrors\u001b[0m \u001b[0;34m=\u001b[0m \u001b[0;34m[\u001b[0m\u001b[0mmean_squared_error\u001b[0m\u001b[0;34m(\u001b[0m\u001b[0my_test\u001b[0m\u001b[0;34m,\u001b[0m \u001b[0my_pred\u001b[0m\u001b[0;34m)\u001b[0m \u001b[0;32mfor\u001b[0m \u001b[0my_pred\u001b[0m \u001b[0;32min\u001b[0m \u001b[0mregressor\u001b[0m\u001b[0;34m.\u001b[0m\u001b[0mstaged_predict\u001b[0m\u001b[0;34m(\u001b[0m\u001b[0mx_test\u001b[0m\u001b[0;34m)\u001b[0m\u001b[0;34m]\u001b[0m\u001b[0;34m\u001b[0m\u001b[0m\n\u001b[0m\u001b[1;32m      3\u001b[0m \u001b[0;34m\u001b[0m\u001b[0m\n\u001b[1;32m      4\u001b[0m \u001b[0mbest_n_estimators\u001b[0m \u001b[0;34m=\u001b[0m \u001b[0mnp\u001b[0m\u001b[0;34m.\u001b[0m\u001b[0margmin\u001b[0m\u001b[0;34m(\u001b[0m\u001b[0merrors\u001b[0m\u001b[0;34m)\u001b[0m\u001b[0;34m\u001b[0m\u001b[0m\n",
      "\u001b[0;31mNameError\u001b[0m: name 'x_test' is not defined"
     ]
    }
   ],
   "source": [
    "# get the optimal number of trees using the staged_predict()\n",
    "errors = [mean_squared_error(y_test, y_pred) for y_pred in regressor.staged_predict(x_test)]\n",
    "\n",
    "best_n_estimators = np.argmin(errors)"
   ]
  },
  {
   "cell_type": "code",
   "execution_count": null,
   "metadata": {},
   "outputs": [],
   "source": [
    "# Fitting Score\n",
    "print(\"\")\n",
    "print(\"___Gradient Boosting Machine Score__\")\n",
    "print(regressor.train_score_)"
   ]
  }
 ],
 "metadata": {
  "kernelspec": {
   "display_name": "Python 3",
   "language": "python",
   "name": "python3"
  },
  "language_info": {
   "codemirror_mode": {
    "name": "ipython",
    "version": 3
   },
   "file_extension": ".py",
   "mimetype": "text/x-python",
   "name": "python",
   "nbconvert_exporter": "python",
   "pygments_lexer": "ipython3",
   "version": "3.6.3"
  }
 },
 "nbformat": 4,
 "nbformat_minor": 4
}
